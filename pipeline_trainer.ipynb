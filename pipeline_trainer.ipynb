{
 "cells": [
  {
   "cell_type": "code",
   "execution_count": 2,
   "metadata": {},
   "outputs": [
    {
     "name": "stdout",
     "output_type": "stream",
     "text": [
      "\n",
      "Predicted output:\n",
      " [0 2 2 0 2 0 2 1 0 1 1 2 0 0 2 2 1 0 0 1 0 2 1 1 2 2 0 0 1 2 1 2 1 0 2 2 1\n",
      " 1 2 2 2 0 1 0 2 1 2 2 1 0 1 2 2 2 2 0 2 2 0 2 2 0 1 0 2 2 1 1 1 2 0 1 0 2\n",
      " 0 0 1 2 2 0 0 1 2 2 2 0 0 0 2 2 2 1 2 0 2 1 2 2 0 0 1 1 1 1 2 2 2 2 0 1 1\n",
      " 0 2 1 1 0 0 1 1 1 0 0 0 1 2 0 0 0 2 1 2 0 0 0 0 1 1 0 1 1 1 2 2 2 0 1 2 0\n",
      " 2 2]\n",
      "\n",
      "Score: 0.9\n",
      "\n",
      "Indices of selected features: 4, 7, 8, 12, 14, 17, 22\n"
     ]
    }
   ],
   "source": [
    "from sklearn.datasets import samples_generator\n",
    "from sklearn.feature_selection import SelectKBest, f_regression\n",
    "from sklearn.pipeline import Pipeline\n",
    "from sklearn.ensemble import ExtraTreesClassifier\n",
    "\n",
    "# Generate data\n",
    "X, y = samples_generator.make_classification(n_samples=150,n_features=25, n_classes=3, n_informative=6,\n",
    "n_redundant=0, random_state=7)\n",
    "\n",
    "# Select top K features\n",
    "k_best_selector = SelectKBest(f_regression, k=9)\n",
    "\n",
    "# Initialize Extremely Random Forests classifier\n",
    "classifier = ExtraTreesClassifier(n_estimators=60, max_depth=4)\n",
    "\n",
    "# Construct the pipeline by joining individual model and naming them to keep track\n",
    "processor_pipeline = Pipeline([('selector', k_best_selector), ('erf',classifier)])\n",
    "\n",
    "# Set the parameters\n",
    "processor_pipeline.set_params(selector__k=7, erf__n_estimators=30)\n",
    "\n",
    "# Training the pipeline\n",
    "processor_pipeline.fit(X, y)\n",
    "\n",
    "# Predict outputs for the input data\n",
    "output = processor_pipeline.predict(X)\n",
    "print(\"\\nPredicted output:\\n\", output)\n",
    "\n",
    "\n",
    "# Print scores\n",
    "print(\"\\nScore:\", processor_pipeline.score(X, y))\n",
    "\n",
    "# Print the features chosen by the pipeline selector\n",
    "status = processor_pipeline.named_steps['selector'].get_support()\n",
    "# Extract and print indices of selected features\n",
    "selected = [i for i, x in enumerate(status) if x]\n",
    "print(\"\\nIndices of selected features:\", ', '.join([str(x) for x in selected]))\n",
    "\n",
    "\n",
    "# The predicted output list in the preceding screenshot shows the output labels predicted\n",
    "# using the processor. The score represents the effectiveness of the processor. The last line\n",
    "# indicates the indices of the chosen features."
   ]
  },
  {
   "cell_type": "code",
   "execution_count": null,
   "metadata": {},
   "outputs": [],
   "source": []
  },
  {
   "cell_type": "code",
   "execution_count": null,
   "metadata": {},
   "outputs": [],
   "source": []
  }
 ],
 "metadata": {
  "kernelspec": {
   "display_name": "Python 3",
   "language": "python",
   "name": "python3"
  },
  "language_info": {
   "codemirror_mode": {
    "name": "ipython",
    "version": 3
   },
   "file_extension": ".py",
   "mimetype": "text/x-python",
   "name": "python",
   "nbconvert_exporter": "python",
   "pygments_lexer": "ipython3",
   "version": "3.7.4"
  }
 },
 "nbformat": 4,
 "nbformat_minor": 4
}
